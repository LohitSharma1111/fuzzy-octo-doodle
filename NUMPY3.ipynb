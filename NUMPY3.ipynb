{
 "cells": [
  {
   "cell_type": "markdown",
   "id": "ca78befa",
   "metadata": {},
   "source": [
    "# Aggregation \n",
    "performing same operations on multiple or no of things"
   ]
  },
  {
   "cell_type": "code",
   "execution_count": 1,
   "id": "4f858658",
   "metadata": {},
   "outputs": [],
   "source": [
    "import numpy as np\n",
    "a1=np.array([1,2,3])"
   ]
  },
  {
   "cell_type": "code",
   "execution_count": 2,
   "id": "ff016078",
   "metadata": {},
   "outputs": [
    {
     "data": {
      "text/plain": [
       "array([1, 2, 3])"
      ]
     },
     "execution_count": 2,
     "metadata": {},
     "output_type": "execute_result"
    }
   ],
   "source": [
    "a1"
   ]
  },
  {
   "cell_type": "code",
   "execution_count": 3,
   "id": "cb176174",
   "metadata": {},
   "outputs": [
    {
     "data": {
      "text/plain": [
       "array([2, 5, 7])"
      ]
     },
     "execution_count": 3,
     "metadata": {},
     "output_type": "execute_result"
    }
   ],
   "source": [
    "a2=np.array([2,5,7])\n",
    "a2"
   ]
  },
  {
   "cell_type": "code",
   "execution_count": 4,
   "id": "ec2152e4",
   "metadata": {},
   "outputs": [
    {
     "data": {
      "text/plain": [
       "6"
      ]
     },
     "execution_count": 4,
     "metadata": {},
     "output_type": "execute_result"
    }
   ],
   "source": [
    "sum(a1)"
   ]
  },
  {
   "cell_type": "code",
   "execution_count": 5,
   "id": "71c37d73",
   "metadata": {},
   "outputs": [],
   "source": [
    "#creating a massive array to demonstrate how fast numpy is"
   ]
  },
  {
   "cell_type": "code",
   "execution_count": 6,
   "id": "9580d764",
   "metadata": {},
   "outputs": [],
   "source": [
    "massive=np.random.random(10000)"
   ]
  },
  {
   "cell_type": "code",
   "execution_count": 7,
   "id": "8a9661ac",
   "metadata": {},
   "outputs": [
    {
     "data": {
      "text/plain": [
       "array([0.81524699, 0.57838454, 0.15202141, 0.81740537, 0.23233301,\n",
       "       0.21808001, 0.94981664, 0.71374698, 0.88831191, 0.15478782,\n",
       "       0.98728071, 0.2235188 , 0.91896091, 0.12969879, 0.77156213,\n",
       "       0.7175129 , 0.00561452, 0.52699948, 0.32703863, 0.51844094,\n",
       "       0.74074831, 0.66742713, 0.27789759, 0.17825787, 0.85778152,\n",
       "       0.81607473, 0.437016  , 0.4677154 , 0.00319164, 0.12358236,\n",
       "       0.70634507, 0.50653091, 0.34703294, 0.19435089, 0.02606081,\n",
       "       0.6625367 , 0.05840355, 0.30047745, 0.87522303, 0.89567705,\n",
       "       0.71755735, 0.489501  , 0.78893111, 0.5424332 , 0.25427711,\n",
       "       0.30792861, 0.3406045 , 0.05939913, 0.57191296, 0.11316936,\n",
       "       0.71459682, 0.25102873, 0.05124157, 0.273173  , 0.60239552,\n",
       "       0.66303328, 0.98000075, 0.33164522, 0.24099394, 0.96850097,\n",
       "       0.00304668, 0.25179778, 0.26969453, 0.40887991, 0.70598573,\n",
       "       0.08894101, 0.46478199, 0.18670681, 0.57962273, 0.65432375,\n",
       "       0.76552827, 0.47400199, 0.57956408, 0.92297137, 0.63458021,\n",
       "       0.9256289 , 0.36648648, 0.78178824, 0.97955952, 0.18477065,\n",
       "       0.27473702, 0.29631685, 0.74761845, 0.00618638, 0.7252626 ,\n",
       "       0.0280228 , 0.04264424, 0.89518186, 0.93703927, 0.82838519,\n",
       "       0.08470908, 0.63712018, 0.12377826, 0.03028883, 0.29848702,\n",
       "       0.32118078, 0.6900576 , 0.16348496, 0.76297973, 0.09618042])"
      ]
     },
     "execution_count": 7,
     "metadata": {},
     "output_type": "execute_result"
    }
   ],
   "source": [
    "massive[:100]"
   ]
  },
  {
   "cell_type": "code",
   "execution_count": 8,
   "id": "e0e532d2",
   "metadata": {},
   "outputs": [
    {
     "name": "stdout",
     "output_type": "stream",
     "text": [
      "1.27 ms ± 122 µs per loop (mean ± std. dev. of 7 runs, 1000 loops each)\n"
     ]
    }
   ],
   "source": [
    "%timeit sum(massive) #for pythons sum()"
   ]
  },
  {
   "cell_type": "code",
   "execution_count": 9,
   "id": "7fe8ec37",
   "metadata": {},
   "outputs": [
    {
     "name": "stdout",
     "output_type": "stream",
     "text": [
      "7.78 µs ± 446 ns per loop (mean ± std. dev. of 7 runs, 100000 loops each)\n"
     ]
    }
   ],
   "source": [
    "%timeit np.sum(massive) #for numpy array"
   ]
  },
  {
   "cell_type": "code",
   "execution_count": 10,
   "id": "0b050666",
   "metadata": {},
   "outputs": [
    {
     "data": {
      "text/plain": [
       "4.222222222222222"
      ]
     },
     "execution_count": 10,
     "metadata": {},
     "output_type": "execute_result"
    }
   ],
   "source": [
    "np.var(a2)"
   ]
  },
  {
   "cell_type": "code",
   "execution_count": 11,
   "id": "aa3482a7",
   "metadata": {},
   "outputs": [
    {
     "data": {
      "text/plain": [
       "2.0548046676563256"
      ]
     },
     "execution_count": 11,
     "metadata": {},
     "output_type": "execute_result"
    }
   ],
   "source": [
    "#standard deviation is square root of variance\n",
    "np.std(a2)"
   ]
  },
  {
   "cell_type": "code",
   "execution_count": 12,
   "id": "748fd11a",
   "metadata": {},
   "outputs": [
    {
     "data": {
      "text/plain": [
       "2"
      ]
     },
     "execution_count": 12,
     "metadata": {},
     "output_type": "execute_result"
    }
   ],
   "source": [
    "np.min(a2)"
   ]
  },
  {
   "cell_type": "code",
   "execution_count": 13,
   "id": "1f06ea32",
   "metadata": {},
   "outputs": [
    {
     "data": {
      "text/plain": [
       "7"
      ]
     },
     "execution_count": 13,
     "metadata": {},
     "output_type": "execute_result"
    }
   ],
   "source": [
    "np.max(a2)"
   ]
  },
  {
   "cell_type": "code",
   "execution_count": 14,
   "id": "d501b850",
   "metadata": {},
   "outputs": [
    {
     "data": {
      "text/plain": [
       "4.222222222222222"
      ]
     },
     "execution_count": 14,
     "metadata": {},
     "output_type": "execute_result"
    }
   ],
   "source": [
    "np.var(a2)"
   ]
  },
  {
   "cell_type": "code",
   "execution_count": 15,
   "id": "0850a27d",
   "metadata": {},
   "outputs": [
    {
     "data": {
      "text/plain": [
       "2.0548046676563256"
      ]
     },
     "execution_count": 15,
     "metadata": {},
     "output_type": "execute_result"
    }
   ],
   "source": [
    "np.std(a2)"
   ]
  },
  {
   "cell_type": "code",
   "execution_count": 16,
   "id": "43a132c6",
   "metadata": {},
   "outputs": [
    {
     "data": {
      "text/plain": [
       "2.0548046676563256"
      ]
     },
     "execution_count": 16,
     "metadata": {},
     "output_type": "execute_result"
    }
   ],
   "source": [
    "np.sqrt(np.var(a2)) #square root of variance is standard deviation"
   ]
  },
  {
   "cell_type": "markdown",
   "id": "31909114",
   "metadata": {},
   "source": [
    "# Manipulating (reshaping numpy arrays)"
   ]
  },
  {
   "cell_type": "code",
   "execution_count": 17,
   "id": "ec54753e",
   "metadata": {},
   "outputs": [],
   "source": [
    "a1= np.array([[[1,2,3],\n",
    "    [2,34,4],\n",
    "    [2,3,4]],\n",
    "              [[2,3,4],\n",
    "              [3,4,5],\n",
    "              [3,45,6]]])"
   ]
  },
  {
   "cell_type": "code",
   "execution_count": 18,
   "id": "6fe81f8c",
   "metadata": {},
   "outputs": [
    {
     "data": {
      "text/plain": [
       "array([[[ 1,  2,  3],\n",
       "        [ 2, 34,  4],\n",
       "        [ 2,  3,  4]],\n",
       "\n",
       "       [[ 2,  3,  4],\n",
       "        [ 3,  4,  5],\n",
       "        [ 3, 45,  6]]])"
      ]
     },
     "execution_count": 18,
     "metadata": {},
     "output_type": "execute_result"
    }
   ],
   "source": [
    "a1"
   ]
  },
  {
   "cell_type": "code",
   "execution_count": 19,
   "id": "a3822652",
   "metadata": {},
   "outputs": [
    {
     "data": {
      "text/plain": [
       "(2, 3, 3)"
      ]
     },
     "execution_count": 19,
     "metadata": {},
     "output_type": "execute_result"
    }
   ],
   "source": [
    "a1.shape"
   ]
  },
  {
   "cell_type": "code",
   "execution_count": 20,
   "id": "d5bdbbf4",
   "metadata": {},
   "outputs": [
    {
     "data": {
      "text/plain": [
       "(3, 3, 2)"
      ]
     },
     "execution_count": 20,
     "metadata": {},
     "output_type": "execute_result"
    }
   ],
   "source": [
    "a1.T.shape #transpose"
   ]
  },
  {
   "cell_type": "markdown",
   "id": "b3d72ba3",
   "metadata": {},
   "source": [
    "# Dot product\n",
    "multiplication of 2 matrices is called dot product where multiplying matrix with single num is \"scalar multiplication\""
   ]
  },
  {
   "cell_type": "code",
   "execution_count": 21,
   "id": "97e687fc",
   "metadata": {},
   "outputs": [
    {
     "data": {
      "text/plain": [
       "(array([[3, 0, 5],\n",
       "        [4, 9, 3],\n",
       "        [3, 1, 1]]),\n",
       " array([[9, 7],\n",
       "        [5, 7],\n",
       "        [1, 4]]))"
      ]
     },
     "execution_count": 21,
     "metadata": {},
     "output_type": "execute_result"
    }
   ],
   "source": [
    "mat1= np.random.randint(10,size=(3,3))\n",
    "mat2= np.random.randint(10,size=(3,2))\n",
    "mat1,mat2\n"
   ]
  },
  {
   "cell_type": "code",
   "execution_count": 22,
   "id": "90dba065",
   "metadata": {},
   "outputs": [],
   "source": [
    "#ELEMENT WISE MUL IS KNOWN AS HARDAMARD PRODUCT"
   ]
  },
  {
   "cell_type": "code",
   "execution_count": 23,
   "id": "df10de6b",
   "metadata": {},
   "outputs": [],
   "source": [
    "mat3=np.dot(mat1,mat2)"
   ]
  },
  {
   "cell_type": "markdown",
   "id": "6356ddc7",
   "metadata": {},
   "source": []
  },
  {
   "cell_type": "code",
   "execution_count": 24,
   "id": "06391149",
   "metadata": {},
   "outputs": [
    {
     "data": {
      "text/plain": [
       "(3, 2)"
      ]
     },
     "execution_count": 24,
     "metadata": {},
     "output_type": "execute_result"
    }
   ],
   "source": [
    "mat3.shape"
   ]
  },
  {
   "cell_type": "code",
   "execution_count": 25,
   "id": "ce8d9c3e",
   "metadata": {},
   "outputs": [
    {
     "data": {
      "text/plain": [
       "array([[ 32,  84,  33],\n",
       "       [ 41, 103,  32]])"
      ]
     },
     "execution_count": 25,
     "metadata": {},
     "output_type": "execute_result"
    }
   ],
   "source": [
    "mat3.T\n"
   ]
  },
  {
   "cell_type": "code",
   "execution_count": 27,
   "id": "16b267be",
   "metadata": {},
   "outputs": [
    {
     "data": {
      "text/plain": [
       "(2, 3)"
      ]
     },
     "execution_count": 27,
     "metadata": {},
     "output_type": "execute_result"
    }
   ],
   "source": [
    "mat3.T.shape\n"
   ]
  },
  {
   "cell_type": "code",
   "execution_count": null,
   "id": "e69c0518",
   "metadata": {},
   "outputs": [],
   "source": []
  }
 ],
 "metadata": {
  "kernelspec": {
   "display_name": "Python 3 (ipykernel)",
   "language": "python",
   "name": "python3"
  },
  "language_info": {
   "codemirror_mode": {
    "name": "ipython",
    "version": 3
   },
   "file_extension": ".py",
   "mimetype": "text/x-python",
   "name": "python",
   "nbconvert_exporter": "python",
   "pygments_lexer": "ipython3",
   "version": "3.9.7"
  }
 },
 "nbformat": 4,
 "nbformat_minor": 5
}
