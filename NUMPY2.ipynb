{
 "cells": [
  {
   "cell_type": "code",
   "execution_count": 1,
   "id": "63b81a89",
   "metadata": {},
   "outputs": [],
   "source": [
    "#seed pseudo random int\n",
    "import numpy as np\n"
   ]
  },
  {
   "cell_type": "code",
   "execution_count": null,
   "id": "34baf6d6",
   "metadata": {},
   "outputs": [],
   "source": [
    "np.random.seed(seed=2)\n",
    "a1=np.random.randint(10,size=(2,3))\n",
    "a1"
   ]
  },
  {
   "cell_type": "code",
   "execution_count": 44,
   "id": "f4aaaf3c",
   "metadata": {},
   "outputs": [
    {
     "data": {
      "text/plain": [
       "array([[8, 1, 6],\n",
       "       [9, 5, 1],\n",
       "       [2, 4, 7]])"
      ]
     },
     "execution_count": 44,
     "metadata": {},
     "output_type": "execute_result"
    }
   ],
   "source": [
    "a1=np.random.randint(10,size=(3,3))\n",
    "a1"
   ]
  },
  {
   "cell_type": "markdown",
   "id": "5b6750cd",
   "metadata": {},
   "source": [
    "# seed doesn't changes the op values everytime "
   ]
  },
  {
   "cell_type": "code",
   "execution_count": 45,
   "id": "05cd0090",
   "metadata": {},
   "outputs": [],
   "source": [
    "\n",
    "randomarray=np.random.random((2,4))"
   ]
  },
  {
   "cell_type": "code",
   "execution_count": 46,
   "id": "3b556813",
   "metadata": {},
   "outputs": [
    {
     "data": {
      "text/plain": [
       "array([[0.97058031, 0.80025835, 0.60181712, 0.76495986],\n",
       "       [0.16922545, 0.29302323, 0.52406688, 0.35662428]])"
      ]
     },
     "execution_count": 46,
     "metadata": {},
     "output_type": "execute_result"
    }
   ],
   "source": [
    "randomarray"
   ]
  },
  {
   "cell_type": "code",
   "execution_count": 47,
   "id": "575832ea",
   "metadata": {},
   "outputs": [
    {
     "data": {
      "text/plain": [
       "array([[8, 1, 6]])"
      ]
     },
     "execution_count": 47,
     "metadata": {},
     "output_type": "execute_result"
    }
   ],
   "source": [
    "a1[:1]"
   ]
  },
  {
   "cell_type": "code",
   "execution_count": 48,
   "id": "66f2d886",
   "metadata": {},
   "outputs": [
    {
     "data": {
      "text/plain": [
       "array([[8, 1, 6],\n",
       "       [9, 5, 1],\n",
       "       [2, 4, 7]])"
      ]
     },
     "execution_count": 48,
     "metadata": {},
     "output_type": "execute_result"
    }
   ],
   "source": [
    "a1[:3]"
   ]
  },
  {
   "cell_type": "code",
   "execution_count": 49,
   "id": "44e1f893",
   "metadata": {},
   "outputs": [
    {
     "data": {
      "text/plain": [
       "array([[8, 1, 6],\n",
       "       [9, 5, 1]])"
      ]
     },
     "execution_count": 49,
     "metadata": {},
     "output_type": "execute_result"
    }
   ],
   "source": [
    "a1[:2]"
   ]
  },
  {
   "cell_type": "code",
   "execution_count": 50,
   "id": "46020660",
   "metadata": {},
   "outputs": [
    {
     "data": {
      "text/plain": [
       "array([[8, 1, 6],\n",
       "       [9, 5, 1],\n",
       "       [2, 4, 7]])"
      ]
     },
     "execution_count": 50,
     "metadata": {},
     "output_type": "execute_result"
    }
   ],
   "source": [
    "a1[:]"
   ]
  },
  {
   "cell_type": "markdown",
   "id": "c649d26e",
   "metadata": {},
   "source": [
    "# manipulating & comparing arrays\n"
   ]
  },
  {
   "cell_type": "markdown",
   "id": "7bac789c",
   "metadata": {},
   "source": [
    "# arithmetic operations"
   ]
  },
  {
   "cell_type": "code",
   "execution_count": 51,
   "id": "ca7e8f1b",
   "metadata": {},
   "outputs": [
    {
     "data": {
      "text/plain": [
       "array([[8, 1, 6],\n",
       "       [9, 5, 1],\n",
       "       [2, 4, 7]])"
      ]
     },
     "execution_count": 51,
     "metadata": {},
     "output_type": "execute_result"
    }
   ],
   "source": [
    "a1"
   ]
  },
  {
   "cell_type": "code",
   "execution_count": 54,
   "id": "3d2cfdd9",
   "metadata": {},
   "outputs": [],
   "source": [
    "ones=np.ones(3)"
   ]
  },
  {
   "cell_type": "code",
   "execution_count": 56,
   "id": "2599a4b1",
   "metadata": {},
   "outputs": [
    {
     "data": {
      "text/plain": [
       "array([1., 1., 1.])"
      ]
     },
     "execution_count": 56,
     "metadata": {},
     "output_type": "execute_result"
    }
   ],
   "source": [
    "ones "
   ]
  },
  {
   "cell_type": "code",
   "execution_count": 57,
   "id": "6b65de09",
   "metadata": {},
   "outputs": [
    {
     "data": {
      "text/plain": [
       "array([[8., 1., 6.],\n",
       "       [9., 5., 1.],\n",
       "       [2., 4., 7.]])"
      ]
     },
     "execution_count": 57,
     "metadata": {},
     "output_type": "execute_result"
    }
   ],
   "source": [
    "ones * a1"
   ]
  },
  {
   "cell_type": "code",
   "execution_count": 58,
   "id": "33e7213a",
   "metadata": {},
   "outputs": [
    {
     "data": {
      "text/plain": [
       "array([[16,  2, 12],\n",
       "       [18, 10,  2],\n",
       "       [ 4,  8, 14]])"
      ]
     },
     "execution_count": 58,
     "metadata": {},
     "output_type": "execute_result"
    }
   ],
   "source": [
    "a1 + a1"
   ]
  },
  {
   "cell_type": "code",
   "execution_count": 59,
   "id": "3659e65b",
   "metadata": {},
   "outputs": [
    {
     "data": {
      "text/plain": [
       "array([[ 9.,  2.,  7.],\n",
       "       [10.,  6.,  2.],\n",
       "       [ 3.,  5.,  8.]])"
      ]
     },
     "execution_count": 59,
     "metadata": {},
     "output_type": "execute_result"
    }
   ],
   "source": [
    "a1 + ones"
   ]
  },
  {
   "cell_type": "code",
   "execution_count": 61,
   "id": "06bda115",
   "metadata": {},
   "outputs": [],
   "source": [
    "a2=np.array([[1,2,3],\n",
    "           [2,3,54],\n",
    "           [3,5,6]])"
   ]
  },
  {
   "cell_type": "code",
   "execution_count": 62,
   "id": "8d8cec68",
   "metadata": {},
   "outputs": [
    {
     "data": {
      "text/plain": [
       "array([[ 1,  2,  3],\n",
       "       [ 2,  3, 54],\n",
       "       [ 3,  5,  6]])"
      ]
     },
     "execution_count": 62,
     "metadata": {},
     "output_type": "execute_result"
    }
   ],
   "source": [
    "a2"
   ]
  },
  {
   "cell_type": "code",
   "execution_count": 63,
   "id": "b2a38685",
   "metadata": {},
   "outputs": [
    {
     "data": {
      "text/plain": [
       "array([[8, 0, 2],\n",
       "       [4, 1, 0],\n",
       "       [0, 0, 1]], dtype=int32)"
      ]
     },
     "execution_count": 63,
     "metadata": {},
     "output_type": "execute_result"
    }
   ],
   "source": [
    "a1 // a2 #no decimal"
   ]
  },
  {
   "cell_type": "code",
   "execution_count": 64,
   "id": "2ab1c98b",
   "metadata": {},
   "outputs": [
    {
     "data": {
      "text/plain": [
       "array([[8.        , 0.5       , 2.        ],\n",
       "       [4.5       , 1.66666667, 0.01851852],\n",
       "       [0.66666667, 0.8       , 1.16666667]])"
      ]
     },
     "execution_count": 64,
     "metadata": {},
     "output_type": "execute_result"
    }
   ],
   "source": [
    "a1 / a2  #returns decimals"
   ]
  },
  {
   "cell_type": "code",
   "execution_count": 68,
   "id": "876d56a3",
   "metadata": {},
   "outputs": [
    {
     "data": {
      "text/plain": [
       "array([[64,  1, 36],\n",
       "       [81, 25,  1],\n",
       "       [ 4, 16, 49]], dtype=int32)"
      ]
     },
     "execution_count": 68,
     "metadata": {},
     "output_type": "execute_result"
    }
   ],
   "source": [
    " a1 ** 2 #square"
   ]
  },
  {
   "cell_type": "code",
   "execution_count": 69,
   "id": "f96ac73a",
   "metadata": {},
   "outputs": [
    {
     "data": {
      "text/plain": [
       "array([[512,   1, 216],\n",
       "       [729, 125,   1],\n",
       "       [  8,  64, 343]], dtype=int32)"
      ]
     },
     "execution_count": 69,
     "metadata": {},
     "output_type": "execute_result"
    }
   ],
   "source": [
    "a1 ** 3 # cube"
   ]
  },
  {
   "cell_type": "code",
   "execution_count": 71,
   "id": "dc48358c",
   "metadata": {},
   "outputs": [
    {
     "data": {
      "text/plain": [
       "array([[1, 2, 0],\n",
       "       [2, 0, 0],\n",
       "       [0, 2, 0]], dtype=int32)"
      ]
     },
     "execution_count": 71,
     "metadata": {},
     "output_type": "execute_result"
    }
   ],
   "source": [
    "a2 % 3 #remainder"
   ]
  },
  {
   "cell_type": "code",
   "execution_count": 72,
   "id": "0c9376cc",
   "metadata": {},
   "outputs": [
    {
     "data": {
      "text/plain": [
       "array([[ 8.5,  2. ,  7.5],\n",
       "       [10. ,  6.5, 28. ],\n",
       "       [ 3.5,  6.5, 10. ]])"
      ]
     },
     "execution_count": 72,
     "metadata": {},
     "output_type": "execute_result"
    }
   ],
   "source": [
    "a1  + a2 /2 #mean"
   ]
  },
  {
   "cell_type": "code",
   "execution_count": null,
   "id": "3bec6a53",
   "metadata": {},
   "outputs": [],
   "source": []
  }
 ],
 "metadata": {
  "kernelspec": {
   "display_name": "Python 3 (ipykernel)",
   "language": "python",
   "name": "python3"
  },
  "language_info": {
   "codemirror_mode": {
    "name": "ipython",
    "version": 3
   },
   "file_extension": ".py",
   "mimetype": "text/x-python",
   "name": "python",
   "nbconvert_exporter": "python",
   "pygments_lexer": "ipython3",
   "version": "3.9.7"
  }
 },
 "nbformat": 4,
 "nbformat_minor": 5
}
